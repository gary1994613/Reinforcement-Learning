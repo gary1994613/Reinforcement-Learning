{
 "cells": [
  {
   "cell_type": "code",
   "execution_count": 1,
   "metadata": {},
   "outputs": [],
   "source": [
    "import numpy as np"
   ]
  },
  {
   "cell_type": "markdown",
   "metadata": {},
   "source": [
    "# Problem"
   ]
  },
  {
   "cell_type": "code",
   "execution_count": 2,
   "metadata": {},
   "outputs": [
    {
     "data": {
      "text/plain": [
       "'Description\\n\\nGiven Dynamics as following\\n\\n\\n    s0       s1       s2       s3       s4       s5       s6\\n ______________________________________________________________\\n|        |        |        |        |        |        |        |\\n|      <--0.4   <--0.4   <--0.4   <--0.4   <--0.4   <--0.4     |\\n|        |        |        |        |        |        |        |\\n|      -->0.4   -->0.4   -->0.4   -->0.4   -->0.4   -->0.4     |\\n|________|________|________|________|________|________|________|\\n  |   ^    |   ^    |   ^    |   ^    |   ^    |   ^    |   ^    \\n  |___|    |___|    |___|    |___|    |___|    |___|    |___|    \\n   0.6      0.2      0.2      0.2      0.2      0.2      0.6\\n\\n\\nSolve value function.\\nReference: https://www.youtube.com/watch?v=E3f2Camj0Is&list=PLoROMvodv4rOSOPzutgyCTapiGlY2Nd8u&index=2\\n'"
      ]
     },
     "execution_count": 2,
     "metadata": {},
     "output_type": "execute_result"
    }
   ],
   "source": [
    "'''Description\n",
    "\n",
    "Given Dynamics as following\n",
    "\n",
    "\n",
    "    s0       s1       s2       s3       s4       s5       s6\n",
    " ______________________________________________________________\n",
    "|        |        |        |        |        |        |        |\n",
    "|      <--0.4   <--0.4   <--0.4   <--0.4   <--0.4   <--0.4     |\n",
    "|        |        |        |        |        |        |        |\n",
    "|      -->0.4   -->0.4   -->0.4   -->0.4   -->0.4   -->0.4     |\n",
    "|________|________|________|________|________|________|________|\n",
    "  |   ^    |   ^    |   ^    |   ^    |   ^    |   ^    |   ^    \n",
    "  |___|    |___|    |___|    |___|    |___|    |___|    |___|    \n",
    "   0.6      0.2      0.2      0.2      0.2      0.2      0.6\n",
    "\n",
    "\n",
    "Solve value function.\n",
    "Reference: https://www.youtube.com/watch?v=E3f2Camj0Is&list=PLoROMvodv4rOSOPzutgyCTapiGlY2Nd8u&index=2\n",
    "'''"
   ]
  },
  {
   "cell_type": "code",
   "execution_count": 3,
   "metadata": {},
   "outputs": [],
   "source": [
    "transition_matrix = np.array([[0.6, 0.4, 0.0, 0.0, 0.0, 0.0, 0.0],\n",
    "                              [0.4, 0.2, 0.4, 0.0, 0.0, 0.0, 0.0],\n",
    "                              [0.0, 0.4, 0.2, 0.4, 0.0, 0.0, 0.0],\n",
    "                              [0.0, 0.0, 0.4, 0.2, 0.4, 0.0, 0.0],\n",
    "                              [0.0, 0.0, 0.0, 0.4, 0.2, 0.4, 0.0],\n",
    "                              [0.0, 0.0, 0.0, 0.0, 0.4, 0.2, 0.4],\n",
    "                              [0.0, 0.0, 0.0, 0.0, 0.0, 0.4, 0.6]])\n",
    "\n",
    "prob_accum_table = np.array([[0.6, 1.0, 1.0, 1.0, 1.0, 1.0, 1.0],\n",
    "                             [0.4, 0.8, 1.0, 1.0, 1.0, 1.0, 1.0],\n",
    "                             [0.0, 0.4, 0.8, 1.0, 1.0, 1.0, 1.0],\n",
    "                             [0.0, 0.0, 0.4, 0.8, 1.0, 1.0, 1.0],\n",
    "                             [0.0, 0.0, 0.0, 0.4, 0.8, 1.0, 1.0],\n",
    "                             [0.0, 0.0, 0.0, 0.0, 0.4, 0.8, 1.0],\n",
    "                             [0.0, 0.0, 0.0, 0.0, 0.0, 0.4, 1.0]])\n",
    "\n",
    "reward_table = np.array([1, \n",
    "                         0, \n",
    "                         0, \n",
    "                         0, \n",
    "                         0, \n",
    "                         0, \n",
    "                         10])"
   ]
  },
  {
   "cell_type": "code",
   "execution_count": 4,
   "metadata": {},
   "outputs": [
    {
     "data": {
      "text/plain": [
       "array([0.90449489])"
      ]
     },
     "execution_count": 4,
     "metadata": {},
     "output_type": "execute_result"
    }
   ],
   "source": [
    "s = np.random.uniform(0, 1, size=1)\n",
    "s"
   ]
  },
  {
   "cell_type": "markdown",
   "metadata": {},
   "source": [
    "# 1. Estimate by simulation"
   ]
  },
  {
   "cell_type": "code",
   "execution_count": 5,
   "metadata": {},
   "outputs": [],
   "source": [
    "def get_next_state(curr_state, prob_accum_table):\n",
    "    '''Idea:\n",
    "       Generate a rand value between 0 and 1 with uniform distribution, \n",
    "       use it and the prob_accum_table to decide which next state is.    \n",
    "       \n",
    "       Take s2 as example, we can draw its transition like: \n",
    "             next=s1          next=s2      next=s3\n",
    "       |----------------|----------------|--------|\n",
    "       0               0.4              0.8       1\n",
    "       If the rand value is between 0.0 and 0.4, then next state is s1\n",
    "       If the rand value is between 0.4 and 0.8, then next state is s2\n",
    "       If the rand value is between 0.8 and 1.0, then next state is s3\n",
    "    '''\n",
    "    rand = np.random.uniform(0, 1, 1)\n",
    "    for state in range(0, len(prob_accum_table)):\n",
    "        if rand<=prob_accum_table[curr_state][state]:\n",
    "            next_state = state\n",
    "            break\n",
    "            \n",
    "    return next_state"
   ]
  },
  {
   "cell_type": "markdown",
   "metadata": {},
   "source": [
    "### - Single episode"
   ]
  },
  {
   "cell_type": "code",
   "execution_count": 6,
   "metadata": {},
   "outputs": [],
   "source": [
    "# Initialize parameters\n",
    "ret = 0\n",
    "state_count = 7\n",
    "gamma = 0.5"
   ]
  },
  {
   "cell_type": "code",
   "execution_count": 7,
   "metadata": {},
   "outputs": [],
   "source": [
    "# Calculate curr_state's value function for single step_count-step episode\n",
    "episode = []\n",
    "curr_state = 6\n",
    "step_count = 4\n",
    "\n",
    "for t in range(1, step_count+1):\n",
    "    # add episode\n",
    "    episode.append(curr_state)\n",
    "\n",
    "    # add ret\n",
    "    ret += gamma**(t-1) * reward_table[curr_state]\n",
    "    \n",
    "    # calculate next_state\n",
    "    next_state = get_next_state(curr_state, prob_accum_table)\n",
    "\n",
    "    # update curr_state\n",
    "    curr_state = next_state"
   ]
  },
  {
   "cell_type": "code",
   "execution_count": 8,
   "metadata": {},
   "outputs": [
    {
     "name": "stdout",
     "output_type": "stream",
     "text": [
      "episode = [6, 6, 6, 5], return value = 17.5\n"
     ]
    }
   ],
   "source": [
    "print('episode = {}, return value = {}'.format(episode, ret))"
   ]
  },
  {
   "cell_type": "markdown",
   "metadata": {},
   "source": [
    "### - Multiple episodes"
   ]
  },
  {
   "cell_type": "code",
   "execution_count": 9,
   "metadata": {},
   "outputs": [],
   "source": [
    "# Calculate curr_state's value function for Multiple step_count-step in episode_count episodes\n",
    "state_count = 7\n",
    "episode_count = 10\n",
    "ret_avg = 0\n",
    "rets = []\n",
    "step_count = 20"
   ]
  },
  {
   "cell_type": "code",
   "execution_count": 10,
   "metadata": {},
   "outputs": [
    {
     "name": "stdout",
     "output_type": "stream",
     "text": [
      "episode_0 = [6, 6, 5, 4, 4, 3, 2, 3, 3, 4, 3, 4, 3, 2, 2, 2, 1, 0, 0, 0], return value = 15.00001335\n",
      "episode_1 = [6, 5, 6, 6, 5, 4, 3, 2, 2, 2, 2, 2, 1, 0, 0, 0, 0, 0, 0, 0], return value = 13.75024223\n",
      "episode_2 = [6, 6, 6, 6, 5, 5, 5, 4, 4, 4, 4, 4, 4, 3, 2, 1, 1, 0, 0, 0], return value = 18.75001335\n",
      "episode_3 = [6, 6, 6, 6, 6, 6, 6, 5, 5, 5, 4, 4, 3, 3, 3, 2, 1, 1, 1, 1], return value = 19.84375000\n",
      "episode_4 = [6, 6, 6, 5, 4, 3, 3, 4, 3, 2, 1, 1, 0, 0, 1, 0, 1, 1, 1, 1], return value = 17.50039673\n",
      "episode_5 = [6, 6, 6, 5, 5, 4, 3, 2, 1, 1, 1, 2, 1, 2, 1, 2, 3, 2, 2, 3], return value = 17.50000000\n",
      "episode_6 = [6, 6, 5, 4, 5, 5, 5, 5, 6, 6, 5, 5, 4, 3, 3, 3, 2, 2, 2, 3], return value = 15.05859375\n",
      "episode_7 = [6, 5, 4, 5, 5, 6, 5, 4, 4, 3, 3, 2, 3, 2, 3, 3, 2, 3, 4, 4], return value = 10.31250000\n",
      "episode_8 = [6, 6, 5, 4, 3, 3, 3, 3, 2, 1, 0, 0, 1, 0, 0, 0, 1, 0, 0, 0], return value = 15.00169182\n",
      "episode_9 = [6, 6, 6, 6, 5, 5, 4, 4, 5, 4, 5, 5, 4, 5, 4, 4, 4, 3, 4, 4], return value = 18.75000000\n"
     ]
    }
   ],
   "source": [
    "for e in range(0, episode_count):\n",
    "    \n",
    "    # Initialize parameters\n",
    "    ret = 0\n",
    "    curr_state = 6\n",
    "    episode = []\n",
    "\n",
    "    for t in range(1, step_count+1):\n",
    "        # add episode\n",
    "        episode.append(curr_state)\n",
    "\n",
    "        # add ret\n",
    "        ret += gamma**(t-1) * reward_table[curr_state]\n",
    "\n",
    "        # calculate next_state\n",
    "        next_state = get_next_state(curr_state, prob_accum_table)\n",
    "\n",
    "        # update curr_state\n",
    "        curr_state = next_state\n",
    "\n",
    "    print('episode_{} = {}, return value = {:.8f}'.format(e, episode, ret))\n",
    "    \n",
    "    rets.append(ret)\n",
    "\n",
    "ret_avg = sum(rets)/len(rets)    "
   ]
  },
  {
   "cell_type": "code",
   "execution_count": 11,
   "metadata": {},
   "outputs": [
    {
     "name": "stdout",
     "output_type": "stream",
     "text": [
      "average return value = 16.146720123291015\n"
     ]
    }
   ],
   "source": [
    "print('average return value = {}'.format(ret_avg))"
   ]
  },
  {
   "cell_type": "markdown",
   "metadata": {},
   "source": [
    "### - Value function"
   ]
  },
  {
   "cell_type": "code",
   "execution_count": 12,
   "metadata": {},
   "outputs": [],
   "source": [
    "# Initialize parameters\n",
    "ret = 0\n",
    "state_count = 7\n",
    "gamma = 0.5"
   ]
  },
  {
   "cell_type": "code",
   "execution_count": 13,
   "metadata": {},
   "outputs": [],
   "source": [
    "# Initialize parameters\n",
    "step_count = 100\n",
    "value_function = np.array([0.0, 0.0, 0.0, 0.0, 0.0, 0.0, 0.0])"
   ]
  },
  {
   "cell_type": "code",
   "execution_count": 14,
   "metadata": {},
   "outputs": [],
   "source": [
    "# Calculate value function for Multiple step_count-step in episode_count episodes\n",
    "episode = []\n",
    "step_count = 25\n",
    "\n",
    "episode_count = 3\n",
    "ret_avg = 0"
   ]
  },
  {
   "cell_type": "code",
   "execution_count": 15,
   "metadata": {},
   "outputs": [
    {
     "name": "stdout",
     "output_type": "stream",
     "text": [
      "--value function state = 0\n",
      "episode_0 = [0, 0, 0, 0, 0, 0, 0, 1, 0, 1, 1, 0, 0, 1, 2, 1, 1, 1, 0, 0, 0, 0, 1, 0, 0], return value = 1.98902100\n",
      "episode_1 = [0, 1, 1, 0, 0, 0, 0, 1, 1, 1, 1, 0, 1, 2, 2, 2, 2, 3, 3, 2, 2, 2, 2, 1, 0], return value = 1.23486334\n",
      "episode_2 = [0, 1, 0, 0, 1, 0, 1, 0, 1, 0, 0, 0, 1, 0, 0, 1, 1, 1, 1, 2, 3, 3, 2, 3, 3], return value = 1.41766357\n",
      "average return value = 1.5471826394399006\n",
      "\n",
      "--value function state = 1\n",
      "episode_0 = [1, 0, 0, 1, 1, 2, 1, 2, 3, 2, 3, 3, 3, 4, 4, 4, 3, 2, 1, 0, 1, 1, 0, 0, 1], return value = 0.75000226\n",
      "episode_1 = [1, 0, 0, 0, 0, 1, 1, 0, 0, 1, 2, 1, 1, 0, 0, 1, 0, 1, 1, 1, 0, 1, 2, 1, 0], return value = 0.94941813\n",
      "episode_2 = [1, 1, 2, 2, 1, 0, 0, 1, 2, 3, 2, 3, 2, 1, 1, 1, 0, 0, 1, 2, 2, 2, 3, 2, 1], return value = 0.04689789\n",
      "average return value = 0.5821060935656229\n",
      "\n",
      "--value function state = 2\n",
      "episode_0 = [2, 1, 1, 2, 2, 3, 4, 3, 2, 2, 3, 2, 1, 0, 0, 1, 1, 1, 1, 1, 0, 0, 1, 1, 2], return value = 0.00018454\n",
      "episode_1 = [2, 2, 2, 1, 0, 0, 1, 0, 0, 0, 0, 0, 1, 0, 1, 1, 0, 0, 0, 1, 1, 2, 1, 0, 1], return value = 0.10903561\n",
      "episode_2 = [2, 2, 1, 1, 1, 1, 0, 1, 0, 0, 1, 1, 1, 1, 1, 0, 1, 2, 2, 3, 3, 2, 1, 1, 1], return value = 0.02151489\n",
      "average return value = 0.04357834657033285\n",
      "\n",
      "--value function state = 3\n",
      "episode_0 = [3, 2, 1, 1, 2, 1, 1, 1, 0, 1, 0, 1, 1, 0, 0, 0, 0, 0, 1, 2, 3, 4, 3, 2, 2], return value = 0.00511932\n",
      "episode_1 = [3, 2, 2, 1, 1, 0, 0, 0, 0, 1, 1, 1, 1, 1, 1, 1, 1, 1, 2, 2, 2, 2, 1, 0, 0], return value = 0.05859393\n",
      "episode_2 = [3, 2, 2, 1, 0, 0, 1, 0, 1, 0, 0, 0, 1, 0, 1, 1, 0, 0, 0, 0, 1, 2, 1, 1, 0], return value = 0.10513121\n",
      "average return value = 0.056281487147013344\n",
      "\n",
      "--value function state = 4\n",
      "episode_0 = [4, 3, 3, 4, 3, 4, 5, 5, 4, 3, 4, 3, 2, 1, 1, 1, 1, 0, 1, 1, 1, 1, 1, 0, 1], return value = 0.00000775\n",
      "episode_1 = [4, 4, 3, 4, 4, 3, 3, 3, 2, 3, 2, 2, 3, 4, 4, 4, 3, 2, 3, 3, 2, 2, 2, 1, 0], return value = 0.00000006\n",
      "episode_2 = [4, 3, 3, 4, 3, 3, 3, 3, 2, 2, 1, 0, 0, 1, 0, 0, 0, 0, 0, 0, 0, 1, 2, 1, 0], return value = 0.00085360\n",
      "average return value = 0.00028713544209798175\n",
      "\n",
      "--value function state = 5\n",
      "episode_0 = [5, 5, 4, 5, 6, 6, 6, 6, 5, 5, 4, 3, 3, 2, 2, 1, 1, 1, 1, 2, 1, 0, 1, 1, 0], return value = 1.17187554\n",
      "episode_1 = [5, 5, 4, 4, 3, 3, 3, 2, 2, 3, 2, 2, 2, 3, 3, 4, 5, 5, 5, 5, 4, 3, 3, 2, 1], return value = 0.00000000\n",
      "episode_2 = [5, 4, 3, 3, 2, 2, 2, 1, 2, 2, 2, 1, 1, 2, 3, 3, 3, 3, 3, 4, 3, 4, 3, 3, 3], return value = 0.00000000\n",
      "average return value = 0.3906251788139343\n",
      "\n",
      "--value function state = 6\n",
      "episode_0 = [6, 5, 4, 5, 4, 3, 3, 2, 1, 1, 0, 0, 0, 1, 0, 0, 0, 1, 0, 0, 0, 1, 0, 1, 0], return value = 10.00182277\n",
      "episode_1 = [6, 5, 4, 4, 3, 2, 1, 2, 2, 1, 1, 1, 0, 1, 0, 0, 1, 0, 1, 0, 1, 2, 1, 1, 1], return value = 10.00034523\n",
      "episode_2 = [6, 6, 5, 5, 4, 4, 3, 2, 1, 1, 2, 1, 0, 0, 1, 0, 1, 2, 1, 1, 1, 2, 3, 4, 3], return value = 15.00039673\n",
      "average return value = 11.66752157608668\n",
      "\n"
     ]
    }
   ],
   "source": [
    "for value_function_state in range(0, state_count):\n",
    "    \n",
    "    ret_avg = 0\n",
    "    rets = []\n",
    "    print('--value function state = {}'.format(value_function_state))\n",
    "    \n",
    "    for e in range(0, episode_count):\n",
    "\n",
    "        episode = []\n",
    "        ret = 0\n",
    "        curr_state = value_function_state\n",
    "\n",
    "        for t in range(1, step_count+1):\n",
    "            episode.append(curr_state)\n",
    "            ret += gamma**(t-1) * reward_table[curr_state]\n",
    "            next_state = get_next_state(curr_state, prob_accum_table)\n",
    "            curr_state = next_state\n",
    "\n",
    "        print('episode_{} = {}, return value = {:.8f}'.format(e, episode, ret))\n",
    "    \n",
    "        rets.append(ret)\n",
    "\n",
    "    ret_avg = sum(rets)/len(rets)\n",
    "    value_function[value_function_state] = ret_avg\n",
    "    \n",
    "    print('average return value = {}\\n'.format(ret_avg))"
   ]
  },
  {
   "cell_type": "code",
   "execution_count": 16,
   "metadata": {},
   "outputs": [
    {
     "name": "stdout",
     "output_type": "stream",
     "text": [
      "value function = [1.547183 0.582106 0.043578 0.056281 0.000287 0.390625 11.667522]\n"
     ]
    }
   ],
   "source": [
    "np.set_printoptions(suppress=True, formatter={'float_kind':'{:f}'.format})\n",
    "print('value function = {}'.format(value_function))"
   ]
  },
  {
   "cell_type": "markdown",
   "metadata": {},
   "source": [
    "### - Vectorization"
   ]
  },
  {
   "cell_type": "code",
   "execution_count": null,
   "metadata": {},
   "outputs": [],
   "source": []
  },
  {
   "cell_type": "code",
   "execution_count": null,
   "metadata": {},
   "outputs": [],
   "source": []
  },
  {
   "cell_type": "markdown",
   "metadata": {},
   "source": [
    "# 2. Solve by equation\n",
    "### - V = R + gamma * P * V"
   ]
  },
  {
   "cell_type": "code",
   "execution_count": 17,
   "metadata": {},
   "outputs": [],
   "source": [
    "transition_matrix = np.array([[0.6, 0.4, 0.0, 0.0, 0.0, 0.0, 0.0],\n",
    "                              [0.4, 0.2, 0.4, 0.0, 0.0, 0.0, 0.0],\n",
    "                              [0.0, 0.4, 0.2, 0.4, 0.0, 0.0, 0.0],\n",
    "                              [0.0, 0.0, 0.4, 0.2, 0.4, 0.0, 0.0],\n",
    "                              [0.0, 0.0, 0.0, 0.4, 0.2, 0.4, 0.0],\n",
    "                              [0.0, 0.0, 0.0, 0.0, 0.4, 0.2, 0.4],\n",
    "                              [0.0, 0.0, 0.0, 0.0, 0.0, 0.4, 0.6]])\n",
    "reward_table = np.array([ 1, \n",
    "                          0, \n",
    "                          0, \n",
    "                          0, \n",
    "                          0, \n",
    "                          0, \n",
    "                         10])\n",
    "gamma = 0.5"
   ]
  },
  {
   "cell_type": "markdown",
   "metadata": {},
   "source": [
    "### - Write as linear equation Ax=b"
   ]
  },
  {
   "cell_type": "code",
   "execution_count": 18,
   "metadata": {},
   "outputs": [],
   "source": [
    "b = reward_table\n",
    "A = np.identity(len(transition_matrix)) - gamma*transition_matrix\n",
    "\n",
    "# solve\n",
    "x = np.linalg.solve(A, b)"
   ]
  },
  {
   "cell_type": "code",
   "execution_count": 19,
   "metadata": {},
   "outputs": [
    {
     "name": "stdout",
     "output_type": "stream",
     "text": [
      "value function = [1.534267 0.369933 0.130433 0.217016 0.846139 3.590609 15.311603]\n"
     ]
    }
   ],
   "source": [
    "print('value function = {}'.format(x))"
   ]
  }
 ],
 "metadata": {
  "kernelspec": {
   "display_name": "Python 3",
   "language": "python",
   "name": "python3"
  },
  "language_info": {
   "codemirror_mode": {
    "name": "ipython",
    "version": 3
   },
   "file_extension": ".py",
   "mimetype": "text/x-python",
   "name": "python",
   "nbconvert_exporter": "python",
   "pygments_lexer": "ipython3",
   "version": "3.7.3"
  }
 },
 "nbformat": 4,
 "nbformat_minor": 2
}
